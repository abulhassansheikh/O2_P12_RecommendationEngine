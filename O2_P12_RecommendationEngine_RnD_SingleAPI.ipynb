{
 "cells": [
  {
   "cell_type": "markdown",
   "metadata": {},
   "source": [
    "# O2_P12_RecommendationEngine_RnD_SingleAPI"
   ]
  },
  {
   "cell_type": "code",
   "execution_count": 2,
   "metadata": {},
   "outputs": [],
   "source": [
    "# List necessary packages\n",
    "import glob as gl\n",
    "import pandas as pd\n",
    "import numpy as np\n",
    "import os\n",
    "import datetime\n",
    "import math\n",
    "from flask import Flask, escape, request\n",
    "\n",
    "#Data Source File\n",
    "MasterRecomDoc=pd.read_csv(\"//192.168.2.32/Group/Data Team/Recommender_System_Location/1_Reference_Files/MasterRecomDoc.csv\", encoding='utf-8')"
   ]
  },
  {
   "cell_type": "code",
   "execution_count": null,
   "metadata": {},
   "outputs": [
    {
     "name": "stdout",
     "output_type": "stream",
     "text": [
      " * Serving Flask app \"__main__\" (lazy loading)\n",
      " * Environment: production\n",
      "   WARNING: This is a development server. Do not use it in a production deployment.\n",
      "   Use a production WSGI server instead.\n",
      " * Debug mode: off\n"
     ]
    },
    {
     "name": "stderr",
     "output_type": "stream",
     "text": [
      " * Running on http://0.0.0.0:5000/ (Press CTRL+C to quit)\n"
     ]
    }
   ],
   "source": [
    "from flask import Flask\n",
    "app = Flask(__name__)\n",
    "\n",
    "@app.route(\"/\")\n",
    "\n",
    "def hello():\n",
    "    return \"Test Test\"\n",
    "\n",
    "app.run()\n"
   ]
  },
  {
   "cell_type": "code",
   "execution_count": 9,
   "metadata": {},
   "outputs": [
    {
     "name": "stdout",
     "output_type": "stream",
     "text": [
      " * Serving Flask app \"__main__\" (lazy loading)\n",
      " * Environment: production\n",
      "   WARNING: This is a development server. Do not use it in a production deployment.\n",
      "   Use a production WSGI server instead.\n",
      " * Debug mode: on\n"
     ]
    },
    {
     "name": "stderr",
     "output_type": "stream",
     "text": [
      " * Restarting with stat\n"
     ]
    },
    {
     "ename": "SystemExit",
     "evalue": "1",
     "output_type": "error",
     "traceback": [
      "An exception has occurred, use %tb to see the full traceback.\n",
      "\u001b[1;31mSystemExit\u001b[0m\u001b[1;31m:\u001b[0m 1\n"
     ]
    },
    {
     "name": "stderr",
     "output_type": "stream",
     "text": [
      "Y:\\Abul\\Conda\\lib\\site-packages\\IPython\\core\\interactiveshell.py:3333: UserWarning: To exit: use 'exit', 'quit', or Ctrl-D.\n",
      "  warn(\"To exit: use 'exit', 'quit', or Ctrl-D.\", stacklevel=1)\n"
     ]
    }
   ],
   "source": [
    "import flask\n",
    "from flask import request, jsonify\n",
    "from tabulate import tabulate\n",
    "import pandas as pd\n",
    "\n",
    "app = Flask(__name__, template_folder=\"templates\")\n",
    "app.config[\"DEBUG\"] = True\n",
    "\n",
    "MasterRecomDoc=(pd.read_csv(\"//192.168.2.32/Group/Data Team/Recommender_System_Location/1_Reference_Files/MasterRecomDoc.csv\", encoding='utf-8'))\n",
    "\n",
    "@app.route('/all', methods=['GET'])\n",
    "def home():\n",
    "    \n",
    "    resultshtml = tabulate(MasterRecomDoc, tablefmt='html')\n",
    "    return resultshtml\n",
    "\n",
    "@app.route('/Y3M', methods=['GET'])\n",
    "def api_Y3M():\n",
    "    \n",
    "    if 'year' in request.args:\n",
    "        year = request.args['year']\n",
    "    else:\n",
    "        year =  \"All\"  \n",
    "        \n",
    "    if 'make' in request.args:\n",
    "        make = request.args['make']\n",
    "    else:\n",
    "        make =  \"All\"  \n",
    "    \n",
    "    if 'model' in request.args:\n",
    "        model = request.args['model']\n",
    "    else:\n",
    "        model =  \"All\"  \n",
    "        \n",
    "    if 'month' in request.args:\n",
    "        month = request.args['month']\n",
    "    else:\n",
    "        month =  \"All\" \n",
    "\n",
    "    # Create an empty list for our results\n",
    "    results = (MasterRecomDoc[(MasterRecomDoc[\"Year\"] == year) & \n",
    "                              (MasterRecomDoc[\"Make\"] == make) & \n",
    "                              (MasterRecomDoc[\"Model\"] == model) & \n",
    "                              (MasterRecomDoc[\"OD_MonthNum\"] == month) \n",
    "                             ])[[\"Sku_0\", \"Sku_1\"]]\n",
    "    \n",
    "    results = (results[\"Sku_0\"].dropna().unique().tolist() + \n",
    "                results[\"Sku_1\"].dropna().unique().tolist())\n",
    "\n",
    "\n",
    "    resultshtml = tabulate(results, tablefmt='html')\n",
    "    return resultshtml\n",
    "\n",
    "app.run()"
   ]
  },
  {
   "cell_type": "code",
   "execution_count": null,
   "metadata": {},
   "outputs": [],
   "source": [
    "http://127.0.0.1:5000/Y3M?make=FORD&model=DELUXE"
   ]
  },
  {
   "cell_type": "code",
   "execution_count": null,
   "metadata": {},
   "outputs": [],
   "source": []
  }
 ],
 "metadata": {
  "kernelspec": {
   "display_name": "Python 3",
   "language": "python",
   "name": "python3"
  },
  "language_info": {
   "codemirror_mode": {
    "name": "ipython",
    "version": 3
   },
   "file_extension": ".py",
   "mimetype": "text/x-python",
   "name": "python",
   "nbconvert_exporter": "python",
   "pygments_lexer": "ipython3",
   "version": "3.7.3"
  }
 },
 "nbformat": 4,
 "nbformat_minor": 4
}
